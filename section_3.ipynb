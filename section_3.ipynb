{
 "cells": [
  {
   "cell_type": "markdown",
   "metadata": {},
   "source": [
    "## 3. Running random simulations in numpy\n",
    "\n",
    "\n",
    "### Section covers:\n",
    "- Basic usage of the NumPy library\n",
    "- Simulating random observations using NumPy\n",
    "- Visualizing simulated data\n",
    "- Estimating unknown probabilities from simulated observations\n",
    "\n",
    "We will use NumPy to analyze billions of random data points, these random observations will allow us to learn hidden probabilities."
   ]
  },
  {
   "cell_type": "code",
   "execution_count": 2,
   "metadata": {},
   "outputs": [],
   "source": [
    "# Import NumPy\n",
    "import numpy as np"
   ]
  },
  {
   "cell_type": "markdown",
   "metadata": {},
   "source": [
    "We use the `np.random` module for random simulations. E.g `np.random.randint(1,7)` produces a random integer between 1 and 6. It chooses the six possible integers with equal likelihood."
   ]
  },
  {
   "cell_type": "code",
   "execution_count": 5,
   "metadata": {},
   "outputs": [],
   "source": [
    "die_roll = np.random.randint(1,7)\n",
    "assert 1 <= die_roll <= 6"
   ]
  },
  {
   "cell_type": "markdown",
   "metadata": {},
   "source": [
    "To ensure consisteny and be able to recreate experiments, we call `np.random.seed(0)`; this method call makes sequences of randomly chosen values reproducible. After the call, we can directly guarantee that our first three dice rolls will land on values 5, 6 and 1."
   ]
  },
  {
   "cell_type": "code",
   "execution_count": 8,
   "metadata": {},
   "outputs": [],
   "source": [
    "# Seeding reproduible random die rolls\n",
    "np.random.seed(0)\n",
    "die_rolls = [np.random.randint(1,7) for _ in range(3)]\n",
    "assert die_rolls == [5, 6, 1]"
   ]
  },
  {
   "cell_type": "markdown",
   "metadata": {},
   "source": [
    "Adjusting the inputted _x_ into`np.random.randint(0, x)` allows us to simulate any number of discrete outcomes. For instance, setting x to 52 will simulate any randomly drawn card. Alternatively, setting x to 2 will simulate a single flip of an unbiased coin. Let's generate that coin-flip by calling `np.random.rantin(0, 2)`; this method call returns a random value equal to either 0 or 1. We assume that 0 stands for tails and 1 stands for heads.\n"
   ]
  },
  {
   "cell_type": "code",
   "execution_count": 10,
   "metadata": {},
   "outputs": [
    {
     "name": "stdout",
     "output_type": "stream",
     "text": [
      "Coin landed on tails\n"
     ]
    }
   ],
   "source": [
    "# Simulating one fair coin flip\n",
    "np.random.seed(0)\n",
    "coin_flip = np.random.randint(0,2)\n",
    "print(f\"Coin landed on {'heads' if coin_flip == 1 else 'tails'}\")"
   ]
  },
  {
   "cell_type": "markdown",
   "metadata": {},
   "source": [
    "Next we simulate a sequence of 10 coin flips and then compute the observed frequency of heads."
   ]
  },
  {
   "cell_type": "code",
   "execution_count": null,
   "metadata": {},
   "outputs": [],
   "source": [
    "# Simulating 10 fair coin flips\n",
    "np.random.seed(0)"
   ]
  }
 ],
 "metadata": {
  "kernelspec": {
   "display_name": "geo311",
   "language": "python",
   "name": "python3"
  },
  "language_info": {
   "codemirror_mode": {
    "name": "ipython",
    "version": 3
   },
   "file_extension": ".py",
   "mimetype": "text/x-python",
   "name": "python",
   "nbconvert_exporter": "python",
   "pygments_lexer": "ipython3",
   "version": "3.11.9"
  }
 },
 "nbformat": 4,
 "nbformat_minor": 2
}
