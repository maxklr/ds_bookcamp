{
 "cells": [
  {
   "cell_type": "markdown",
   "metadata": {},
   "source": [
    "## Case study 1\n",
    "\n",
    "_Finding the winning strategy in a card game_\n",
    "\n",
    "Flip one card at a time. If the last card is red, player wins. Player can halt the game at any time, and the next card will count.\n",
    "\n",
    "#### Overview\n",
    "To address the problem at hand, we will need to know how to\n",
    "1. Compute the probabilities of observable events using sample space analysis\n",
    "2. Plot the probablilities of events across a range of interval values\n",
    "3. Simulate random processes, such as coin flips and card shuffling, using python\n",
    "4. Evaluate our confidence in decisions drawn from simulations using confidence interval analyis"
   ]
  },
  {
   "cell_type": "markdown",
   "metadata": {},
   "source": [
    "### Computing probablities using python\n",
    "\n",
    "- basics of probability theory\n",
    "- Computing probalities of a single observation\n",
    "- Computing probabilities across a range of observations\n",
    "\n"
   ]
  },
  {
   "cell_type": "markdown",
   "metadata": {},
   "source": [
    "__Sample space__\n",
    "\n",
    "Set of possible measurable outcomes of an action. In python, denoted witth `{curly brackets}`.\n",
    "- Sets are unordered, so you cannot be sure in which order the items will appear.\n",
    "- Set items are unchangeable, but you can remove items and add new items."
   ]
  },
  {
   "cell_type": "code",
   "execution_count": 1,
   "metadata": {},
   "outputs": [
    {
     "name": "stdout",
     "output_type": "stream",
     "text": [
      "Sample space: {'Tails', 'Heads'}\n",
      "Probability of choosing heads is 0.5\n"
     ]
    }
   ],
   "source": [
    "#  Create a sample space of coin flips\n",
    "sample_space = {'Heads', 'Tails'}\n",
    "print(f'Sample space: {sample_space}')\n",
    "\n",
    "# Computing the probability of heads:\n",
    "probability_heads = 1 / len(sample_space)\n",
    "print(f'Probability of choosing heads is {probability_heads}')"
   ]
  },
  {
   "cell_type": "markdown",
   "metadata": {},
   "source": [
    "__Events__\n",
    "\n",
    "To find more rigorous answers, we need to define the concept of an *event*. An event is a subset of those elements within `sample_space` that satisfy an *event condition* (heads OR tails, heads, tails, neither)"
   ]
  },
  {
   "cell_type": "code",
   "execution_count": 2,
   "metadata": {},
   "outputs": [],
   "source": [
    "# Defining event conditions\n",
    "def is_heads_or_tails(outcome):\n",
    "    return outcome in {'Heads', 'Tails'}\n",
    "\n",
    "def is_neither(outcome):\n",
    "    return not is_heads_or_tails(outcome)\n",
    "\n",
    "def is_heads(outcome):\n",
    "    return outcome =='Heads'\n",
    "\n",
    "def is_tails(outcome):\n",
    "    return outcome == 'Tails'"
   ]
  },
  {
   "cell_type": "markdown",
   "metadata": {},
   "source": [
    "We can now pass event conditions into a generalized `get_matching_event` function. The function iterates through the generic sample space and returns the set of outcomes where `event_condition(outcome)` is `True`"
   ]
  },
  {
   "cell_type": "code",
   "execution_count": 3,
   "metadata": {},
   "outputs": [],
   "source": [
    "def get_matching_event(event_condition, sample_space):\n",
    "    return set([outcome for outcome in sample_space if event_condition(outcome)])"
   ]
  },
  {
   "cell_type": "code",
   "execution_count": 4,
   "metadata": {},
   "outputs": [
    {
     "name": "stdout",
     "output_type": "stream",
     "text": [
      "Event Condition: is_heads_or_tails\n",
      "Event: {'Tails', 'Heads'}\n",
      "\n",
      "Event Condition: is_heads\n",
      "Event: {'Heads'}\n",
      "\n",
      "Event Condition: is_tails\n",
      "Event: {'Tails'}\n",
      "\n",
      "Event Condition: is_neither\n",
      "Event: set()\n",
      "\n"
     ]
    }
   ],
   "source": [
    "# DEtecting events using event conditions\n",
    "event_conditions = [is_heads_or_tails, is_heads, is_tails, is_neither]\n",
    "\n",
    "for event_condition in event_conditions:\n",
    "    print(f\"Event Condition: {event_condition.__name__}\")\n",
    "    event = get_matching_event(event_condition, sample_space)\n",
    "    print(f'Event: {event}\\n')"
   ]
  },
  {
   "cell_type": "markdown",
   "metadata": {},
   "source": [
    "We've successfully extracted 4 events from sample_space `{'Heads', 'Tails}`. We know that the probability of a single-element outcome is 1/len(sample_space). This can be generalized to include multi-element events. The probablity of an event is `len(event)/len(sample_space)`, but only if all outcomes are known to occur with equal likelihood. I.e. the probability of a multi-element event for a fair coin is equal to the event size divided by the sample space size. We now use event size to compute the four event probabilities:"
   ]
  },
  {
   "cell_type": "code",
   "execution_count": 5,
   "metadata": {},
   "outputs": [
    {
     "name": "stdout",
     "output_type": "stream",
     "text": [
      "Probability of event arising from 'is_heads_or_tails' is 1.0\n",
      "Probability of event arising from 'is_heads' is 0.5\n",
      "Probability of event arising from 'is_tails' is 0.5\n",
      "Probability of event arising from 'is_neither' is 0.0\n"
     ]
    }
   ],
   "source": [
    "# Computing event probabilities\n",
    "def compute_probability(event_condition, generic_sample_space):\n",
    "    # The compute_probability function extracts the event associated with\n",
    "    # an inputted event condition to compute its probability\n",
    "    event = get_matching_event(event_condition, generic_sample_space)\n",
    "    # Probability is equal to event size divided by sample space size\n",
    "    # print(f\"{event}: {len(event)} / {generic_sample_space}: {len(generic_sample_space)}\")\n",
    "    return len(event) / len(generic_sample_space)\n",
    "\n",
    "for event_condition in event_conditions:\n",
    "    prob = compute_probability(event_condition, sample_space)\n",
    "    name = event_condition.__name__\n",
    "    print(f\"Probability of event arising from '{name}' is {prob}\")"
   ]
  },
  {
   "cell_type": "markdown",
   "metadata": {},
   "source": [
    "### Analyzing a biased coin\n",
    "\n",
    "How do we compute the likelihoods of outcomes that are not weighted in an equal manner? We construct a *weighted sample space* represented by a python dictionary. Each outcome is treated a key whos value maps to the associated weight. This allows us to redefine the sample space as the sum of all dictionary weights. Within `weighted_sample_space`, that sum will equal 5."
   ]
  },
  {
   "cell_type": "code",
   "execution_count": 6,
   "metadata": {},
   "outputs": [],
   "source": [
    "weighted_sample_space = {'Heads' : 4, 'Tails' : 1}"
   ]
  },
  {
   "cell_type": "code",
   "execution_count": 7,
   "metadata": {},
   "outputs": [],
   "source": [
    "# Checking the weighted sample space size\n",
    "sample_space_size = sum(weighted_sample_space.values())\n",
    "assert sample_space_size == 5"
   ]
  },
  {
   "cell_type": "code",
   "execution_count": 8,
   "metadata": {},
   "outputs": [],
   "source": [
    "# Checking the weighted event size\n",
    "event = get_matching_event(is_heads_or_tails, weighted_sample_space)\n",
    "event_size = sum(weighted_sample_space[outcome] for outcome in event)\n",
    "assert event_size == 5"
   ]
  },
  {
   "cell_type": "markdown",
   "metadata": {},
   "source": [
    "Our generalized definitions of sample space size and event size, permit us to create a `compute_event_probability` function. The function takes as input a `generic_sample_space` variable that can be either a weighted dictionary, or an unweighted set."
   ]
  },
  {
   "cell_type": "code",
   "execution_count": 9,
   "metadata": {},
   "outputs": [],
   "source": [
    "# Defining a generalized event probability funnction\n",
    "def compute_event_probability(event_condition, generic_sample_space):\n",
    "    event = get_matching_event(event_condition, generic_sample_space)\n",
    "    if type(generic_sample_space) == type(set()):\n",
    "        return len(event)/len(generic_sample_space)\n",
    "    \n",
    "    event_size = sum(generic_sample_space[outcome] for outcome in event)\n",
    "    return event_size / sum(generic_sample_space.values())"
   ]
  },
  {
   "cell_type": "markdown",
   "metadata": {},
   "source": [
    "We can now output all the event probabilities for the biased coin without needing to redifine out four event condition functions."
   ]
  },
  {
   "cell_type": "code",
   "execution_count": 10,
   "metadata": {},
   "outputs": [
    {
     "name": "stdout",
     "output_type": "stream",
     "text": [
      "Probability of an event arising from 'is_heads_or_tails' is 1.0\n",
      "Probability of an event arising from 'is_heads' is 0.8\n",
      "Probability of an event arising from 'is_tails' is 0.2\n",
      "Probability of an event arising from 'is_neither' is 0.0\n"
     ]
    }
   ],
   "source": [
    "# Computing weighted event probabilities\n",
    "for event_condition in event_conditions:\n",
    "    prob = compute_event_probability(event_condition, weighted_sample_space)\n",
    "    name = event_condition.__name__\n",
    "    print(f\"Probability of an event arising from '{name}' is {prob}\")"
   ]
  },
  {
   "cell_type": "markdown",
   "metadata": {},
   "source": [
    "### Computing nontrivial probabilities\n",
    "We will now solve several problems using `compute_event_probability`\n",
    "\n",
    "#### Problem 1: Analyzing a family with four children\n",
    "We assume each child is equally likely to be either a boy or a girl. Thus we can construct an unweighted sample space where each outcome represents one possible sequence of four children."
   ]
  },
  {
   "cell_type": "code",
   "execution_count": 11,
   "metadata": {},
   "outputs": [],
   "source": [
    "# Computing the sample space of children\n",
    "possible_children = ['Boy', 'Girl']\n",
    "sample_space = set()\n",
    "for child1 in possible_children:\n",
    "    for child2 in possible_children:\n",
    "        for child3 in possible_children:\n",
    "            for child4 in possible_children:\n",
    "                outcome = (child1, child2, child3, child4)\n",
    "                sample_space.add(outcome)"
   ]
  },
  {
   "cell_type": "code",
   "execution_count": 12,
   "metadata": {},
   "outputs": [
    {
     "data": {
      "text/plain": [
       "{('Boy', 'Boy', 'Boy', 'Boy'),\n",
       " ('Boy', 'Boy', 'Boy', 'Girl'),\n",
       " ('Boy', 'Boy', 'Girl', 'Boy'),\n",
       " ('Boy', 'Boy', 'Girl', 'Girl'),\n",
       " ('Boy', 'Girl', 'Boy', 'Boy'),\n",
       " ('Boy', 'Girl', 'Boy', 'Girl'),\n",
       " ('Boy', 'Girl', 'Girl', 'Boy'),\n",
       " ('Boy', 'Girl', 'Girl', 'Girl'),\n",
       " ('Girl', 'Boy', 'Boy', 'Boy'),\n",
       " ('Girl', 'Boy', 'Boy', 'Girl'),\n",
       " ('Girl', 'Boy', 'Girl', 'Boy'),\n",
       " ('Girl', 'Boy', 'Girl', 'Girl'),\n",
       " ('Girl', 'Girl', 'Boy', 'Boy'),\n",
       " ('Girl', 'Girl', 'Boy', 'Girl'),\n",
       " ('Girl', 'Girl', 'Girl', 'Boy'),\n",
       " ('Girl', 'Girl', 'Girl', 'Girl')}"
      ]
     },
     "execution_count": 12,
     "metadata": {},
     "output_type": "execute_result"
    }
   ],
   "source": [
    "sample_space"
   ]
  },
  {
   "cell_type": "markdown",
   "metadata": {},
   "source": [
    "Nested loops are inefficient. Using itertools.product, we can easily generate our sample space. The `product` function returns _all pairwise combinations of all elements across all input lists_. We input four instances of the `possible_children` list into `itertools.product`. The product function then iterates over all four instances of the list, computing all the combinations of list elements. The final output equals out sample space.\n",
    "\n",
    "The * operator unpacks multiple arguments sored within a list. These arguments are them passed into a specified function. Thus, calling `product(*(4 * [possible_children]))` is equivalent to calling `product(possible_children, possible_children, possible_children, possible_children)`"
   ]
  },
  {
   "cell_type": "code",
   "execution_count": 13,
   "metadata": {},
   "outputs": [],
   "source": [
    "from itertools import product\n",
    "all_combinations = product(*(4 * [possible_children]))\n",
    "assert set(all_combinations) == sample_space"
   ]
  },
  {
   "cell_type": "code",
   "execution_count": 14,
   "metadata": {},
   "outputs": [
    {
     "name": "stdout",
     "output_type": "stream",
     "text": [
      "set()\n"
     ]
    }
   ],
   "source": [
    "print(set(all_combinations))"
   ]
  },
  {
   "cell_type": "markdown",
   "metadata": {},
   "source": [
    "Note that after running this code, `all_combinations` will be empty. That is because the product returns a Python iterator, wich can be iterated over only once. For us, this isn't an issue. We are about to compute the sample space even more efficiently, and `all_combinations` will not be used in future code.\n",
    "\n",
    "We make it more efficient by executing `set(possible_children, repeat=4)`. In general, running `product(possible_children, repeat=n)` returns an iterable over all posiible combinations of n children."
   ]
  },
  {
   "cell_type": "code",
   "execution_count": 15,
   "metadata": {},
   "outputs": [],
   "source": [
    "sample_space_efficient = set(product(possible_children, repeat=4))\n",
    "assert sample_space == sample_space_efficient"
   ]
  },
  {
   "cell_type": "code",
   "execution_count": 16,
   "metadata": {},
   "outputs": [
    {
     "data": {
      "text/plain": [
       "{('Boy', 'Boy', 'Boy', 'Boy'),\n",
       " ('Boy', 'Boy', 'Boy', 'Girl'),\n",
       " ('Boy', 'Boy', 'Girl', 'Boy'),\n",
       " ('Boy', 'Boy', 'Girl', 'Girl'),\n",
       " ('Boy', 'Girl', 'Boy', 'Boy'),\n",
       " ('Boy', 'Girl', 'Boy', 'Girl'),\n",
       " ('Boy', 'Girl', 'Girl', 'Boy'),\n",
       " ('Boy', 'Girl', 'Girl', 'Girl'),\n",
       " ('Girl', 'Boy', 'Boy', 'Boy'),\n",
       " ('Girl', 'Boy', 'Boy', 'Girl'),\n",
       " ('Girl', 'Boy', 'Girl', 'Boy'),\n",
       " ('Girl', 'Boy', 'Girl', 'Girl'),\n",
       " ('Girl', 'Girl', 'Boy', 'Boy'),\n",
       " ('Girl', 'Girl', 'Boy', 'Girl'),\n",
       " ('Girl', 'Girl', 'Girl', 'Boy'),\n",
       " ('Girl', 'Girl', 'Girl', 'Girl')}"
      ]
     },
     "execution_count": 16,
     "metadata": {},
     "output_type": "execute_result"
    }
   ],
   "source": [
    "sample_space_efficient"
   ]
  },
  {
   "cell_type": "markdown",
   "metadata": {},
   "source": [
    "Calculate the fraction of `sample_space` that is composed of families with two boys. We define a `has_two_boys` event condition and then pass that condition into `compute_event_probability`"
   ]
  },
  {
   "cell_type": "code",
   "execution_count": 17,
   "metadata": {},
   "outputs": [
    {
     "name": "stdout",
     "output_type": "stream",
     "text": [
      "Probability of 2 boys is 0.375\n"
     ]
    }
   ],
   "source": [
    "def has_two_boys(outcome):\n",
    "    return len([child for child in outcome if child == 'Boy']) == 2\n",
    "\n",
    "prob = compute_event_probability(has_two_boys, sample_space)\n",
    "print(f\"Probability of 2 boys is {prob}\")"
   ]
  },
  {
   "cell_type": "markdown",
   "metadata": {},
   "source": [
    "The probability of exactly two boys being born in a family is 0.375. We expect 37.5% of families with four children to contain an equal number oof boys and girsl. Of course, the actual observed percentage of families with two boys will vary due to random chance."
   ]
  },
  {
   "cell_type": "markdown",
   "metadata": {},
   "source": [
    "### Problem 2: Analyzing multiple die rolls\n",
    "Suppose we're shown a fair six-sided die whose faces are numbered from 1 to 6. The die is rolled six times. What is the probability that these six die rolls add up to 21?\n",
    "We begin by defining the possible values of any single roll."
   ]
  },
  {
   "cell_type": "code",
   "execution_count": 18,
   "metadata": {},
   "outputs": [
    {
     "name": "stdout",
     "output_type": "stream",
     "text": [
      "[1, 2, 3, 4, 5, 6]\n"
     ]
    }
   ],
   "source": [
    "# Defining all possible rolls of a six-sided die\n",
    "possible_rolls = list(range(1,7))\n",
    "print(possible_rolls)"
   ]
  },
  {
   "cell_type": "markdown",
   "metadata": {},
   "source": [
    "Next, we create the sample space for six consecutive die rolls"
   ]
  },
  {
   "cell_type": "code",
   "execution_count": 19,
   "metadata": {},
   "outputs": [],
   "source": [
    "# Sample spave for 6 consecutive die rolls\n",
    "sample_space = set(product(possible_rolls, repeat=6))"
   ]
  },
  {
   "cell_type": "code",
   "execution_count": 20,
   "metadata": {},
   "outputs": [
    {
     "data": {
      "text/plain": [
       "46656"
      ]
     },
     "execution_count": 20,
     "metadata": {},
     "output_type": "execute_result"
    }
   ],
   "source": [
    "len(sample_space)"
   ]
  },
  {
   "cell_type": "markdown",
   "metadata": {},
   "source": [
    "Finally, we define a `has_sum_of_21` event condition that we'll subsequently pass into `compute_event_probability`"
   ]
  },
  {
   "cell_type": "code",
   "execution_count": 21,
   "metadata": {},
   "outputs": [
    {
     "name": "stdout",
     "output_type": "stream",
     "text": [
      "6 rolls sum to 21 with a probability of 0.09284979423868313\n"
     ]
    }
   ],
   "source": [
    "# Computing the probability of a die roll sum.\n",
    "def has_sum_of_21(outcome):\n",
    "    return sum(outcome) == 21\n",
    "\n",
    "prob = compute_event_probability(has_sum_of_21, sample_space)\n",
    "print(f\"6 rolls sum to 21 with a probability of {prob}\")"
   ]
  },
  {
   "cell_type": "markdown",
   "metadata": {},
   "source": [
    "The die rolls will sum to 21 _more than_ 9% of the time. Our analysis can be coded more concisely using a _lambda_ expression. Lamda expressions are one-line anonymous functions that do not require a name. In this book, lambda expressions are used to pass short functions into other functions"
   ]
  },
  {
   "cell_type": "code",
   "execution_count": 22,
   "metadata": {},
   "outputs": [],
   "source": [
    "# Computing the probability using a lambda expression\n",
    "prob = compute_event_probability(lambda x: sum(x) == 21, sample_space)\n",
    "assert prob == compute_event_probability(has_sum_of_21, sample_space)"
   ]
  },
  {
   "cell_type": "markdown",
   "metadata": {},
   "source": [
    "### Problem 3: Computing die-roll probablilities using weighted sample spaces\n",
    "\n",
    "Let's compute the probability using a weighted sample space. We need to convert the unweighted sample space set into a weightet sample space dictionary; this will require us to identify all possible die-roll combinations. These combinations are already stored in our computed `sample_space` set. By mapping the die-roll sums to their occurence counts, we will produce a `weighted_sample_space` result."
   ]
  },
  {
   "cell_type": "code",
   "execution_count": 23,
   "metadata": {},
   "outputs": [],
   "source": [
    "# Mapping die-roll sums to occurence counts\n",
    "from collections import defaultdict\n",
    "weighted_sample_space = defaultdict(int) # \n",
    "for outcome in sample_space:\n",
    "    total = sum(outcome)\n",
    "    weighted_sample_space[total] += 1"
   ]
  },
  {
   "cell_type": "markdown",
   "metadata": {},
   "source": [
    "Some properties of `weighted_sample_space`:\n",
    " - Not all weights are equal\n",
    " - e.g. only one way to roll 6 and 36"
   ]
  },
  {
   "cell_type": "code",
   "execution_count": 24,
   "metadata": {},
   "outputs": [],
   "source": [
    "assert weighted_sample_space[6] == 1\n",
    "assert weighted_sample_space[36] == 1 "
   ]
  },
  {
   "cell_type": "code",
   "execution_count": 25,
   "metadata": {},
   "outputs": [
    {
     "data": {
      "text/plain": [
       "{21: 4332,\n",
       " 22: 4221,\n",
       " 27: 1666,\n",
       " 12: 456,\n",
       " 24: 3431,\n",
       " 19: 3906,\n",
       " 18: 3431,\n",
       " 20: 4221,\n",
       " 23: 3906,\n",
       " 26: 2247}"
      ]
     },
     "execution_count": 25,
     "metadata": {},
     "output_type": "execute_result"
    }
   ],
   "source": [
    "import itertools\n",
    "dict(itertools.islice(weighted_sample_space.items(), 10))"
   ]
  },
  {
   "cell_type": "markdown",
   "metadata": {},
   "source": [
    "The length of the `weighted_sample_space` is all the possible sums of a six-die roll. Since 6 is the lowest possible result, its 36 (`6*6`) - 5 (`[1, 2, 3, 4, 5]`)"
   ]
  },
  {
   "cell_type": "code",
   "execution_count": 26,
   "metadata": {},
   "outputs": [
    {
     "data": {
      "text/plain": [
       "31"
      ]
     },
     "execution_count": 26,
     "metadata": {},
     "output_type": "execute_result"
    }
   ],
   "source": [
    "len(weighted_sample_space)"
   ]
  },
  {
   "cell_type": "code",
   "execution_count": 27,
   "metadata": {},
   "outputs": [
    {
     "name": "stdout",
     "output_type": "stream",
     "text": [
      "There are 4332 ways for 6 die rolls to sum to 21\n"
     ]
    }
   ],
   "source": [
    "# Checking a more common die-roll combination\n",
    "num_combinations = weighted_sample_space[21]\n",
    "print(f\"There are {num_combinations} ways for 6 die rolls to sum to 21\")"
   ]
  },
  {
   "cell_type": "markdown",
   "metadata": {},
   "source": [
    "The output shows there are 4332 ways for six die rolls to sum up to 21. A sum of 21 is a lot more possible than a sum of 6."
   ]
  },
  {
   "cell_type": "code",
   "execution_count": 28,
   "metadata": {},
   "outputs": [],
   "source": [
    "# Exploring different ways of summing to 21\n",
    "assert sum([4, 4, 4, 4, 3, 2]) == 21\n",
    "assert sum([4, 4, 4, 5, 3, 1]) == 21"
   ]
  },
  {
   "cell_type": "markdown",
   "metadata": {},
   "source": [
    "Note that the observed count of 4332 is equal to the length of an unweighted event whose die rolls add up to 21. Also, the sum of values in `weighted_sample` is equal to the length of `sample_space`. Hence, a direct link exists between the unweighted and weighted event probability computation. "
   ]
  },
  {
   "cell_type": "code",
   "execution_count": 29,
   "metadata": {},
   "outputs": [],
   "source": [
    "# Comparing weighted events and regular events\n",
    "event = get_matching_event(lambda x: sum(x) == 21, sample_space)\n",
    "assert weighted_sample_space[21] == len(event)\n",
    "assert sum(weighted_sample_space.values()) == len(sample_space)"
   ]
  },
  {
   "cell_type": "markdown",
   "metadata": {},
   "source": [
    "Let's now recompute the probability using the `weighted_sample_space` dictionary. The final probability of rolling 21 should remain unchanged."
   ]
  },
  {
   "cell_type": "code",
   "execution_count": 35,
   "metadata": {},
   "outputs": [
    {
     "name": "stdout",
     "output_type": "stream",
     "text": [
      "6 rolls sum to 21 with a probability of 0.09284979423868313\n"
     ]
    }
   ],
   "source": [
    "# Computing the weighted event probability of die rolls\n",
    "\n",
    "prob = compute_event_probability(lambda x: x == 21, weighted_sample_space)\n",
    "assert prob == compute_event_probability(has_sum_of_21, sample_space)\n",
    "print(f\"6 rolls sum to 21 with a probability of {prob}\")\n"
   ]
  },
  {
   "cell_type": "markdown",
   "metadata": {},
   "source": [
    "The benefit of using a weighted sample space over an unweighted one is memory usage. The `unweighted_sample_space` set has on the order of 150 times more elements than the weighted sample space dictionary"
   ]
  },
  {
   "cell_type": "code",
   "execution_count": 36,
   "metadata": {},
   "outputs": [
    {
     "name": "stdout",
     "output_type": "stream",
     "text": [
      "Number of Elements in Unweighted Sample Space:\n",
      "46656\n",
      "Number of Elements in Weighted Sample Space:\n",
      "31\n"
     ]
    }
   ],
   "source": [
    "print('Number of Elements in Unweighted Sample Space:')\n",
    "print(len(sample_space))\n",
    "print('Number of Elements in Weighted Sample Space:')\n",
    "print(len(weighted_sample_space))"
   ]
  },
  {
   "cell_type": "markdown",
   "metadata": {},
   "source": [
    "### Computing probabilities over interval ranges\n",
    "\n",
    "So far we've onlu analyzed event conditions that satisfy some single value. Now we'll analyze event conditions that span intervals of values. An _interval_ is the set of all numbers between and including two boundary cutoffs. Let's define an `is_in_interval` function that checks whether a number falls within a specified interval. We'll control the interval buondaries by passing a `minimum` and `maximum` parameter."
   ]
  },
  {
   "cell_type": "code",
   "execution_count": 38,
   "metadata": {},
   "outputs": [],
   "source": [
    "def is_in_interval(number, minimum, maximum):\n",
    "    return minimum <= number <= maximum"
   ]
  },
  {
   "cell_type": "markdown",
   "metadata": {},
   "source": [
    "Given the `is_in_interval` function, we can compute the probability that an event's associated value falls within some numeric range. For instance, let's compute the likelihood that our six consecutive die rolls sum to a value between 10 and 21 (inclusive)"
   ]
  },
  {
   "cell_type": "code",
   "execution_count": 42,
   "metadata": {},
   "outputs": [
    {
     "name": "stdout",
     "output_type": "stream",
     "text": [
      "Probability of interval is: 0.5446244855967078\n"
     ]
    }
   ],
   "source": [
    "prob = compute_event_probability(lambda x: is_in_interval(x, 10, 21), weighted_sample_space)\n",
    "print(f\"Probability of interval is: {prob}\")"
   ]
  },
  {
   "cell_type": "markdown",
   "metadata": {},
   "source": [
    "#### Evaluating extremes using interval analysis\n",
    "\n",
    "Interval analysis is critical to solving a whole class of very important problems in probability and statistics. One such problem involves the evaluation of extremes: the problem boils down to whether observed data is too extreme to be believable.\n",
    " \n",
    " Data seems extreme when it is too unusual to have occured by random chance. For instance, suppose we observe 10 flips of an allegedly fair coin, and that coin lands on heads 8 out of 10 times. Is this a sensible result for a fair coin? Or is our coin secretly biased toward landing on heads? To find out, we must answer the following question: what is the probability that 10 fair coin flips lead to an extreme number of heads? We'll define an extreme head count as eight heads or more. Thus, we candescribe the problem as follows: what is the probability that 10 fair coin flips produce from 8 to 10 heads?\n",
    "  \n",
    "  We'll find out answer by computing an _interval_probability_. However, first we need the _sample_space_ for every possible sequence of of 10 flipped coins. Let's generate a _weighted sample space_ as this is more efficient that non-weighted representation.\n",
    "   \n",
    "   The following code creates a `weighted_sample_space` dictionary. Its keys equal the total number of observable heads, ranging from 0 through 10. These head counts map to values. Each value holds the number of coin-flip combinations that contain the associated head count. We thus expect `weighted_sample_space[10]` to equal 1, since there is only one possible way to flip a coin 10 times and get 10 heads. Meanwhile, we expect `weighted_sample_space[9]` to equal 10 since a single tail among 9 heads can occur across 10 different positions."
   ]
  },
  {
   "cell_type": "code",
   "execution_count": 48,
   "metadata": {},
   "outputs": [],
   "source": [
    "def generate_coin_sample_space(num_flips=10):\n",
    "    weighted_sample_space = defaultdict(int)\n",
    "    for coin_flips in product(['Heads', 'Tails'], repeat=num_flips):\n",
    "        heads_count = len([outcome for outcome in coin_flips if outcome == 'Heads'])\n",
    "        weighted_sample_space[heads_count] += 1\n",
    "    return weighted_sample_space\n",
    "\n",
    "weighted_sample_space = generate_coin_sample_space()\n",
    "assert weighted_sample_space[10] == 1\n",
    "assert weighted_sample_space[9] == 10"
   ]
  },
  {
   "cell_type": "markdown",
   "metadata": {},
   "source": [
    "We now compute the probability of observing an interval from 8 to 10 heads."
   ]
  },
  {
   "cell_type": "code",
   "execution_count": 50,
   "metadata": {},
   "outputs": [
    {
     "name": "stdout",
     "output_type": "stream",
     "text": [
      "Probability of observing more that 7 heads is 0.0546875\n"
     ]
    }
   ],
   "source": [
    "prob = compute_event_probability(lambda x: is_in_interval(x, 8, 10), weighted_sample_space)\n",
    "print(f\"Probability of observing more that 7 heads is {prob}\")"
   ]
  },
  {
   "cell_type": "markdown",
   "metadata": {},
   "source": [
    "Ten fair coin flips produce more that 7 heads approximately 5% of the time. Our observed head count does not commonly occur. Does this mean that the coin is biased? Not necessarily. We haven't considered extreme tail coints. If we had observed eight tails and not eight heads, we would still be suspicious of the coin. Our computed interval did not take this extreme into account - instead, we treated eight or more tails as just another normal possibility. To evaluate the fairness of our coin, we must include the likelihood of observing eight tails or more. This is equivalent to observing two heads or fewer.\n",
    "\n",
    "Let's formulate the problem as follows: what is the probability that 10 fair coin flips produce either 0 to 2 heads or 8 to 10 heads? Or, stated more consicely, what is the probability that the coin flips do _not_ produce from 3 to 7 heads? That probability is computed here:"
   ]
  },
  {
   "cell_type": "code",
   "execution_count": 51,
   "metadata": {},
   "outputs": [
    {
     "name": "stdout",
     "output_type": "stream",
     "text": [
      "Probability of observing more than 7 heads or 7 tails is 0.109375\n"
     ]
    }
   ],
   "source": [
    "prob = compute_event_probability(lambda x: not is_in_interval(x, 3, 7), weighted_sample_space)\n",
    "print(f\"Probability of observing more than 7 heads or 7 tails is {prob}\")"
   ]
  },
  {
   "cell_type": "markdown",
   "metadata": {},
   "source": [
    "Approximately 10% of coin flips are either 7 or more tails or 7 or more heads. A low, but still plausible, probability. Without further evidence, it's difficult to decide whether the coin is truly biased.\n",
    "\n",
    "Suppose we flip the coin 10 additional times, and 8 or more heads come up. This brings to 16 heads out of 20 coin flips total. Our confidence in the fairness of the coin has been reduced, but by how much? We can find out bu measuring the change in probability. Let's find the probability of 20 fair coin flips _not_ producing from 5 to 15 heads."
   ]
  },
  {
   "cell_type": "code",
   "execution_count": 53,
   "metadata": {},
   "outputs": [
    {
     "name": "stdout",
     "output_type": "stream",
     "text": [
      "Probability of observing more that 15 heads of 15 tails is 0.01181793212890625\n"
     ]
    }
   ],
   "source": [
    "weighted_sample_space = generate_coin_sample_space(num_flips=20)\n",
    "prob = compute_event_probability(lambda x: not is_in_interval(x, 5, 15), weighted_sample_space)\n",
    "\n",
    "print(f\"Probability of observing more that 15 heads of 15 tails is {prob}\")"
   ]
  },
  {
   "cell_type": "markdown",
   "metadata": {},
   "source": [
    "The added evidence has caused a tenfold decrease in probability and confidence in the coins fairness, from 0.1 to 0.01. Despite this drop in probability, the ration of heads to tails has remained a constant 4 to 1. Both our original and updated experiments produced 80% heads and 20% tails. This leads to an interesting question: why does the probability of observing an extreme result decrease as the coin is flipped more times? We can find out through detailed mathematical analusis. However, a much more intuitive solution is to just visualize the distribution of head counts across out two sample space dictionaries. The visualization would effectively be a plot of keys (head counts) versus values (combination counts) present in each dictionary. We can carry out this using matplotlib."
   ]
  }
 ],
 "metadata": {
  "kernelspec": {
   "display_name": "data",
   "language": "python",
   "name": "python3"
  },
  "language_info": {
   "codemirror_mode": {
    "name": "ipython",
    "version": 3
   },
   "file_extension": ".py",
   "mimetype": "text/x-python",
   "name": "python",
   "nbconvert_exporter": "python",
   "pygments_lexer": "ipython3",
   "version": "3.11.5"
  },
  "orig_nbformat": 4
 },
 "nbformat": 4,
 "nbformat_minor": 2
}
